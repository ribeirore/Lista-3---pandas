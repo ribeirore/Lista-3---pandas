{
  "nbformat": 4,
  "nbformat_minor": 0,
  "metadata": {
    "colab": {
      "provenance": []
    },
    "kernelspec": {
      "name": "python3",
      "display_name": "Python 3"
    },
    "language_info": {
      "name": "python"
    }
  },
  "cells": [
    {
      "cell_type": "code",
      "execution_count": null,
      "metadata": {
        "id": "6AejvD1CTFQX"
      },
      "outputs": [],
      "source": []
    },
    {
      "cell_type": "markdown",
      "source": [
        "Lista 2 - Renata Marinho de Castro Ribeiro -- 2111396"
      ],
      "metadata": {
        "id": "p8j4WtqoULC8"
      }
    },
    {
      "cell_type": "code",
      "source": [
        "#Questão 1 -- Salve a base de dados escolhida no seu drive e importe para um notebook do Colab, criando um Dataframe\n",
        "\n",
        "import numpy as np\n",
        "import pandas as pd\n",
        "\n",
        "diabetes = pd.read_csv('/content/drive/MyDrive/eng1111/class_diabetes.csv')\n",
        "\n",
        "\n"
      ],
      "metadata": {
        "id": "BqPYPjoJUao_"
      },
      "execution_count": 2,
      "outputs": []
    },
    {
      "cell_type": "code",
      "source": [
        "#questão 2 -- Inspecione as colunas do conjunto de dados (Nome das colunas e tipo de dados)\n",
        "\n",
        "diabetes.info()"
      ],
      "metadata": {
        "id": "AiXOmZ0vVW3k"
      },
      "execution_count": null,
      "outputs": []
    },
    {
      "cell_type": "code",
      "source": [
        "#Questão 3 -- Escolha uma coluna com valores numéricos e apague todas as linhas que possuam valor nulo\n",
        "\n",
        "diabetes['skin'] = diabetes['skin'].replace(0,np.nan)\n",
        "\n",
        "diabetes['skin'] = diabetes['skin'].dropna()"
      ],
      "metadata": {
        "id": "pQ739S2QU2gt"
      },
      "execution_count": 3,
      "outputs": []
    },
    {
      "cell_type": "code",
      "source": [
        "#questão 4 -- Calcule a média desta mesma coluna\n",
        "\n",
        "media = diabetes['skin'].mean()"
      ],
      "metadata": {
        "id": "q6AZV4GIV-iu"
      },
      "execution_count": 8,
      "outputs": []
    },
    {
      "cell_type": "code",
      "source": [
        "#questão 5 -- Escolha um critério para eliminar as linhas que possuam valores muito distantes da média e crie um novo Datafra\n",
        "crit1 = diabetes['skin'] >= 20\n",
        "crit2 = diabetes['skin'] <= 60\n",
        "\n",
        "diabetes = diabetes[crit1]\n",
        "diabetes = diabetes[crit2]"
      ],
      "metadata": {
        "colab": {
          "base_uri": "https://localhost:8080/"
        },
        "id": "6Y6nRWuNWHUI",
        "outputId": "9df46b5e-a008-416e-d2d6-8ef06ad83d87"
      },
      "execution_count": 9,
      "outputs": [
        {
          "output_type": "stream",
          "name": "stderr",
          "text": [
            "/usr/local/lib/python3.7/dist-packages/ipykernel_launcher.py:6: UserWarning: Boolean Series key will be reindexed to match DataFrame index.\n",
            "  \n"
          ]
        }
      ]
    },
    {
      "cell_type": "code",
      "source": [
        "#questão 6 -- Crie um novo Dataframe que contenha apenas 5 colunas do conjunto anterior.\n",
        "novodiab = diabetes.drop(['skin','preg','plas','pres','insu'],axis = 1)"
      ],
      "metadata": {
        "id": "8ZpMo4mKXtSk"
      },
      "execution_count": 10,
      "outputs": []
    },
    {
      "cell_type": "code",
      "source": [
        "#questão 7 -- Escolha duas colunas numéricas e crie uma nova coluna que siga a regra: (Coluna A - Coluna B)*número aleatório (entre 0 e 1).\n",
        "novodiab['col_nova'] = novodiab['pedi']-novodiab['age']\n",
        "novodiab['col_nova'] = novodiab['col_nova']*0.3\n",
        "\n"
      ],
      "metadata": {
        "id": "j8mzHYD5YZhm"
      },
      "execution_count": 11,
      "outputs": []
    },
    {
      "cell_type": "code",
      "source": [
        "#questão 8 -- Embaralhe aleatoriamente o dataframe (índices e valores).\n",
        "diabetes_random = novodiab.sample(frac=1)"
      ],
      "metadata": {
        "id": "zStQSiUcZI0R"
      },
      "execution_count": 12,
      "outputs": []
    },
    {
      "cell_type": "code",
      "source": [
        "#questão 9 -- Ordene o Dataframe seguindo um critério definido por você (Explique o critério)\n",
        "diab2 = [['age','class', 'insu', 'pedi','plas','preg', 'pres', 'skin']] #primeiro eu organizei as colunas de uma forma crescente \n",
        "diab2.sort_values(by=['preg'], ascending=False). #--> organizei de forma decrescente \n"
      ],
      "metadata": {
        "colab": {
          "base_uri": "https://localhost:8080/",
          "height": 201
        },
        "id": "YqpnwXg-ZP2n",
        "outputId": "96c29c5a-3c0e-48d3-eabe-f67f50b40ff4"
      },
      "execution_count": 6,
      "outputs": [
        {
          "output_type": "error",
          "ename": "AttributeError",
          "evalue": "ignored",
          "traceback": [
            "\u001b[0;31m---------------------------------------------------------------------------\u001b[0m",
            "\u001b[0;31mAttributeError\u001b[0m                            Traceback (most recent call last)",
            "\u001b[0;32m<ipython-input-6-d670078ffc77>\u001b[0m in \u001b[0;36m<module>\u001b[0;34m\u001b[0m\n\u001b[1;32m      1\u001b[0m \u001b[0;31m#questão 9 -- Ordene o Dataframe seguindo um critério definido por você (Explique o critério)\u001b[0m\u001b[0;34m\u001b[0m\u001b[0;34m\u001b[0m\u001b[0;34m\u001b[0m\u001b[0m\n\u001b[1;32m      2\u001b[0m \u001b[0mdiabetes2\u001b[0m \u001b[0;34m=\u001b[0m \u001b[0;34m[\u001b[0m\u001b[0;34m[\u001b[0m\u001b[0;34m'age'\u001b[0m\u001b[0;34m,\u001b[0m\u001b[0;34m'class'\u001b[0m\u001b[0;34m,\u001b[0m \u001b[0;34m'insu'\u001b[0m\u001b[0;34m,\u001b[0m \u001b[0;34m'pedi'\u001b[0m\u001b[0;34m,\u001b[0m\u001b[0;34m'plas'\u001b[0m\u001b[0;34m,\u001b[0m\u001b[0;34m'preg'\u001b[0m\u001b[0;34m,\u001b[0m \u001b[0;34m'pres'\u001b[0m\u001b[0;34m,\u001b[0m \u001b[0;34m'skin'\u001b[0m\u001b[0;34m]\u001b[0m\u001b[0;34m]\u001b[0m \u001b[0;31m#primeiro eu organizei as colunas de uma forma crescente\u001b[0m\u001b[0;34m\u001b[0m\u001b[0;34m\u001b[0m\u001b[0m\n\u001b[0;32m----> 3\u001b[0;31m \u001b[0mdiabetes2\u001b[0m\u001b[0;34m.\u001b[0m\u001b[0msort_values\u001b[0m\u001b[0;34m(\u001b[0m\u001b[0mby\u001b[0m\u001b[0;34m=\u001b[0m\u001b[0;34m[\u001b[0m\u001b[0;34m'preg'\u001b[0m\u001b[0;34m]\u001b[0m\u001b[0;34m,\u001b[0m \u001b[0mascending\u001b[0m\u001b[0;34m=\u001b[0m\u001b[0;32mFalse\u001b[0m\u001b[0;34m)\u001b[0m\u001b[0;34m\u001b[0m\u001b[0;34m\u001b[0m\u001b[0m\n\u001b[0m",
            "\u001b[0;31mAttributeError\u001b[0m: 'list' object has no attribute 'sort_values'"
          ]
        }
      ]
    },
    {
      "cell_type": "code",
      "source": [
        "#questão 10 -- Escolha uma coluna numérica e um coluna com strings e utilize a função Groupby para mostrar os totais da  coluna.\n",
        "\n",
        "gp=diab2.groupby(['pres','class']).sum()"
      ],
      "metadata": {
        "id": "IoXhlObuerPY"
      },
      "execution_count": null,
      "outputs": []
    },
    {
      "cell_type": "code",
      "source": [
        "#questão11 -- Utilize a função MAPS para fazer algum tipo de substituição no Dataframe (explique)\n",
        "\n",
        "diab2['class'] = diab2['class'].map({'tested_negative':'negativo','tested_positive':'positivo'})# -> Utilizei a função map para alterar a coluna 'class', substituindo  por 'positivo' e 'negativo' respectivamente\n"
      ],
      "metadata": {
        "id": "eJJxmY8nfjDQ"
      },
      "execution_count": null,
      "outputs": []
    },
    {
      "cell_type": "code",
      "source": [
        "#questão 12 -- Exporte o último Dataframe para um arquivo CSV e salve no seu drive\n",
        "\n",
        "diab2.to_csv('/content/drive/Mydrive/diabetes.csv')"
      ],
      "metadata": {
        "colab": {
          "base_uri": "https://localhost:8080/",
          "height": 201
        },
        "id": "AjFv85V1gDFE",
        "outputId": "5336ddb9-44f7-420b-d361-e6d9976e5c7b"
      },
      "execution_count": 7,
      "outputs": [
        {
          "output_type": "error",
          "ename": "NameError",
          "evalue": "ignored",
          "traceback": [
            "\u001b[0;31m---------------------------------------------------------------------------\u001b[0m",
            "\u001b[0;31mNameError\u001b[0m                                 Traceback (most recent call last)",
            "\u001b[0;32m<ipython-input-7-992ba3f2cc4a>\u001b[0m in \u001b[0;36m<module>\u001b[0;34m\u001b[0m\n\u001b[1;32m      1\u001b[0m \u001b[0;31m#questão 12 -- Exporte o último Dataframe para um arquivo CSV e salve no seu drive\u001b[0m\u001b[0;34m\u001b[0m\u001b[0;34m\u001b[0m\u001b[0;34m\u001b[0m\u001b[0m\n\u001b[1;32m      2\u001b[0m \u001b[0;34m\u001b[0m\u001b[0m\n\u001b[0;32m----> 3\u001b[0;31m \u001b[0mdiab2\u001b[0m\u001b[0;34m.\u001b[0m\u001b[0mto_csv\u001b[0m\u001b[0;34m(\u001b[0m\u001b[0;34m'/content/drive/Mydrive/diabetes.csv'\u001b[0m\u001b[0;34m)\u001b[0m\u001b[0;34m\u001b[0m\u001b[0;34m\u001b[0m\u001b[0m\n\u001b[0m",
            "\u001b[0;31mNameError\u001b[0m: name 'diab2' is not defined"
          ]
        }
      ]
    },
    {
      "cell_type": "code",
      "source": [
        "#questão 13 -- Exporte o mesmo Dataframe para um arquivo JSON e salve no seu drive\n",
        "\n",
        "diab2.to_json('/content/drive/Mydrive/diabetes.json')"
      ],
      "metadata": {
        "id": "1vMxwp8XgsBM"
      },
      "execution_count": null,
      "outputs": []
    },
    {
      "cell_type": "code",
      "source": [
        "#questão 14"
      ],
      "metadata": {
        "id": "GNAYq4efg_f_"
      },
      "execution_count": null,
      "outputs": []
    },
    {
      "cell_type": "markdown",
      "source": [],
      "metadata": {
        "id": "R2Lv2ryHUh4q"
      }
    }
  ]
}